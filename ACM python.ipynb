{
 "cells": [
  {
   "cell_type": "markdown",
   "metadata": {},
   "source": [
    "Fuctions"
   ]
  },
  {
   "cell_type": "code",
   "execution_count": null,
   "metadata": {},
   "outputs": [],
   "source": [
    "#Q1\n",
    "def print_details(*args, **kwargs):\n",
    "    print(\"Args:\", args)\n",
    "    print(\"Kwargs:\", kwargs)\n",
    "\n",
    "print_details(1, 2, name='Alice', age=30)"
   ]
  },
  {
   "cell_type": "code",
   "execution_count": null,
   "metadata": {},
   "outputs": [],
   "source": [
    "#Q2\n",
    "x = 10\n",
    "\n",
    "def modify():\n",
    "    x = x + 1\n",
    "    return x\n",
    "\n",
    "print(modify())"
   ]
  },
  {
   "cell_type": "code",
   "execution_count": null,
   "metadata": {},
   "outputs": [],
   "source": [
    "#Q3\n",
    "def calculate_area radius, height:\n",
    "    area = 3.14 * radius^2 * height\n",
    "    return area"
   ]
  },
  {
   "cell_type": "code",
   "execution_count": 10,
   "metadata": {},
   "outputs": [
    {
     "name": "stdout",
     "output_type": "stream",
     "text": [
      "Error: Divisor cannot be zero\n"
     ]
    }
   ],
   "source": []
  },
  {
   "cell_type": "markdown",
   "metadata": {},
   "source": [
    "Loops and arrays"
   ]
  },
  {
   "cell_type": "code",
   "execution_count": null,
   "metadata": {},
   "outputs": [],
   "source": [
    "#Q1\n",
    "num = 1\n",
    "while num < 10:\n",
    "    print(num)\n",
    "    num = num - 1  "
   ]
  },
  {
   "cell_type": "code",
   "execution_count": null,
   "metadata": {},
   "outputs": [],
   "source": [
    "#Q2\n",
    "arr = [1, 2, 3, 4, 5]\n",
    "k = 2\n",
    "rotated = [0] * len(arr)\n",
    "for i in range(len(arr)):\n",
    "    rotated[i] = arr[(i - k) % len(arr)] \n",
    "print(rotated)\n"
   ]
  },
  {
   "cell_type": "code",
   "execution_count": 11,
   "metadata": {},
   "outputs": [
    {
     "name": "stdout",
     "output_type": "stream",
     "text": [
      "ZeroDivisionError: Total weight cannot be zero\n"
     ]
    },
    {
     "ename": "IndexError",
     "evalue": "list index out of range",
     "output_type": "error",
     "traceback": [
      "\u001b[1;31m---------------------------------------------------------------------------\u001b[0m",
      "\u001b[1;31mIndexError\u001b[0m                                Traceback (most recent call last)",
      "Cell \u001b[1;32mIn[11], line 35\u001b[0m\n\u001b[0;32m     33\u001b[0m     \u001b[38;5;28;01mfor\u001b[39;00m j \u001b[38;5;129;01min\u001b[39;00m \u001b[38;5;28mrange\u001b[39m(\u001b[38;5;28mlen\u001b[39m(matrix[i])):\n\u001b[0;32m     34\u001b[0m         \u001b[38;5;28;01mif\u001b[39;00m matrix[i][j] \u001b[38;5;241m%\u001b[39m \u001b[38;5;241m2\u001b[39m \u001b[38;5;241m==\u001b[39m \u001b[38;5;241m0\u001b[39m:\n\u001b[1;32m---> 35\u001b[0m             matrix[i][j] \u001b[38;5;241m=\u001b[39m \u001b[43mmatrix\u001b[49m\u001b[43m[\u001b[49m\u001b[43mi\u001b[49m\u001b[43m]\u001b[49m\u001b[43m[\u001b[49m\u001b[43mj\u001b[49m\u001b[43m \u001b[49m\u001b[38;5;241;43m+\u001b[39;49m\u001b[43m \u001b[49m\u001b[38;5;241;43m1\u001b[39;49m\u001b[43m]\u001b[49m \n\u001b[0;32m     36\u001b[0m \u001b[38;5;28mprint\u001b[39m(matrix)\n",
      "\u001b[1;31mIndexError\u001b[0m: list index out of range"
     ]
    }
   ],
   "source": [
    "#Q3\n",
    "def compute_weighted_average(values, weights):\n",
    "    if len(values) != len(weights):\n",
    "        raise ValueError(\"Values and weights must be of the same length\")\n",
    "    \n",
    "    total_weight = sum(weights)\n",
    "    if total_weight == 0:\n",
    "        raise ZeroDivisionError(\"Total weight cannot be zero\")\n",
    "\n",
    "    weighted_sum = 0\n",
    "    \n",
    "    for value, weight in zip(values, weights):\n",
    "        weighted_sum += value * weight\n",
    "\n",
    "    average = weighted_sum / total_weight  \n",
    "\n",
    "    return average\n",
    "\n",
    "# Example usage\n",
    "values = [10, 20, 30]\n",
    "weights = [0, 0, 0]  \n",
    "\n",
    "try:\n",
    "    average = compute_weighted_average(values, weights)\n",
    "    print(f\"The weighted average is: {average}\")\n",
    "except ValueError as e:\n",
    "    print(f\"ValueError: {e}\")\n",
    "except ZeroDivisionError as e:\n",
    "    print(f\"ZeroDivisionError: {e}\")\n",
    "\n",
    "matrix = [[1, 2, 3], [4, 5, 6], [7, 8, 9]]\n",
    "for i in range(len(matrix)):\n",
    "    for j in range(len(matrix[i])):\n",
    "        if matrix[i][j] % 2 == 0:\n",
    "            matrix[i][j] = matrix[i][j + 1] \n",
    "print(matrix)\n"
   ]
  },
  {
   "cell_type": "code",
   "execution_count": null,
   "metadata": {},
   "outputs": [],
   "source": [
    "#Q4 \n",
    "arr = [1, 'a', 3, 'b', 5]\n",
    "total = 0\n",
    "for item in arr:\n",
    "    total += item  \n",
    "print(total)"
   ]
  },
  {
   "cell_type": "code",
   "execution_count": null,
   "metadata": {},
   "outputs": [],
   "source": [
    "#Q5\n",
    "arr = [1, 2, 3, 4, 5]\n",
    "k = 2\n",
    "rotated = [0] * len(arr)\n",
    "for i in range(len(arr)):\n",
    "    rotated[i] = arr[(i - k) % len(arr)]  \n",
    "print(rotated)"
   ]
  },
  {
   "cell_type": "code",
   "execution_count": null,
   "metadata": {},
   "outputs": [],
   "source": [
    "#Q6\n",
    "i = 0\n",
    "while i < 10:\n",
    "    if i % 2 == 0:\n",
    "        print(i)"
   ]
  }
 ],
 "metadata": {
  "kernelspec": {
   "display_name": "Python 3",
   "language": "python",
   "name": "python3"
  },
  "language_info": {
   "codemirror_mode": {
    "name": "ipython",
    "version": 3
   },
   "file_extension": ".py",
   "mimetype": "text/x-python",
   "name": "python",
   "nbconvert_exporter": "python",
   "pygments_lexer": "ipython3",
   "version": "3.11.9"
  }
 },
 "nbformat": 4,
 "nbformat_minor": 2
}
